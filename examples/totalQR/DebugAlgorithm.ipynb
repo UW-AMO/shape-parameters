{
 "cells": [
  {
   "cell_type": "markdown",
   "metadata": {},
   "source": [
    "# Different Dynamics in Algorithms\n",
    "From the following experiments, we could see that different initial point will give us different result. Some prior assumptions might be needed to let the algorithm converge to the right local minimum."
   ]
  },
  {
   "cell_type": "code",
   "execution_count": null,
   "metadata": {
    "collapsed": true
   },
   "outputs": [],
   "source": [
    "using PyPlot"
   ]
  },
  {
   "cell_type": "markdown",
   "metadata": {},
   "source": [
    "## Load Data"
   ]
  },
  {
   "cell_type": "code",
   "execution_count": null,
   "metadata": {
    "collapsed": false
   },
   "outputs": [],
   "source": [
    "fid = open(\"data/data.bin\",\"r\")\n",
    "m,n = read(fid,Int64,2)\n",
    "A   = read(fid,Float64,m*n)\n",
    "y   = read(fid,Float64,m)\n",
    "At  = read(fid,Float64,m*n)\n",
    "xt  = read(fid,Float64,n)[1]\n",
    "τt  = read(fid,Float64,n)[1]\n",
    "close(fid)\n",
    "A   = reshape(A,m,n)\n",
    "At  = reshape(At,m,n);"
   ]
  },
  {
   "cell_type": "markdown",
   "metadata": {},
   "source": [
    "## Import Functions"
   ]
  },
  {
   "cell_type": "code",
   "execution_count": null,
   "metadata": {
    "collapsed": false
   },
   "outputs": [],
   "source": [
    "include(\"./tQRPALM.jl\")"
   ]
  },
  {
   "cell_type": "markdown",
   "metadata": {},
   "source": [
    "## PALM Algoritm\n",
    "\n",
    "\n",
    "In every iteration we,\n",
    "* update $A$\n",
    "* update $x$\n",
    "* update $\\tau$"
   ]
  },
  {
   "cell_type": "markdown",
   "metadata": {},
   "source": [
    "### Initial $x = 1$"
   ]
  },
  {
   "cell_type": "code",
   "execution_count": null,
   "metadata": {
    "collapsed": false
   },
   "outputs": [],
   "source": [
    "# ALP Algorithm\n",
    "Aq1 = copy(A);\n",
    "τ1  = fill(0.5,n);\n",
    "x1  = ones(n);\n",
    "tQRSolver!(x1,τ1,Aq1,A,y,itermax=2000)"
   ]
  },
  {
   "cell_type": "code",
   "execution_count": null,
   "metadata": {
    "collapsed": false
   },
   "outputs": [],
   "source": [
    "# check the result\n",
    "@show(xt,x1)\n",
    "@show(τt,τ1);"
   ]
  },
  {
   "cell_type": "code",
   "execution_count": null,
   "metadata": {
    "collapsed": false
   },
   "outputs": [],
   "source": [
    "# plot result\n",
    "plot(A, y, \".c\");                   # data points\n",
    "plot([0.,1.], [0.,1.0*xt], \"-b\")    # true line\n",
    "plot([0.,1.], [0.,1.0*x1], \"-r\")    # initial x = 1.0"
   ]
  },
  {
   "cell_type": "markdown",
   "metadata": {},
   "source": [
    "### Initial $x=0.1$"
   ]
  },
  {
   "cell_type": "code",
   "execution_count": null,
   "metadata": {
    "collapsed": false
   },
   "outputs": [],
   "source": [
    "# ALP Algorithm\n",
    "Aq2 = copy(A);\n",
    "τ2  = fill(0.5,n);\n",
    "x2  = fill(0.1,n);\n",
    "tQRSolver!(x2,τ2,Aq2,A,y,itermax=2000)"
   ]
  },
  {
   "cell_type": "code",
   "execution_count": null,
   "metadata": {
    "collapsed": false
   },
   "outputs": [],
   "source": [
    "# check the result\n",
    "@show(xt,x2)\n",
    "@show(τt,τ2);"
   ]
  },
  {
   "cell_type": "code",
   "execution_count": null,
   "metadata": {
    "collapsed": false
   },
   "outputs": [],
   "source": [
    "plot(A, y, \".c\");                   # data points\n",
    "plot([0.,1.], [0.,1.0*xt], \"-b\")    # true line\n",
    "plot([0.,1.], [0.,1.0*x1], \"-r\")    # initial x = 1.0\n",
    "plot([0.,20.],[0.,20.0*x2], \"-g\")   # initial x = 0.1"
   ]
  },
  {
   "cell_type": "code",
   "execution_count": null,
   "metadata": {
    "collapsed": true
   },
   "outputs": [],
   "source": []
  }
 ],
 "metadata": {
  "kernelspec": {
   "display_name": "Julia 0.5.0",
   "language": "julia",
   "name": "julia-0.5"
  },
  "language_info": {
   "file_extension": ".jl",
   "mimetype": "application/julia",
   "name": "julia",
   "version": "0.5.0"
  }
 },
 "nbformat": 4,
 "nbformat_minor": 0
}
