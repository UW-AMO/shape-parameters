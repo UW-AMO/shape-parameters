{
 "cells": [
  {
   "cell_type": "markdown",
   "metadata": {},
   "source": [
    "# Test Local Minimum of TQR with Respect to $\\tau$"
   ]
  },
  {
   "cell_type": "code",
   "execution_count": null,
   "metadata": {
    "collapsed": false
   },
   "outputs": [],
   "source": [
    "using PyPlot\n",
    "include(\"./tQRPALM.jl\")"
   ]
  },
  {
   "cell_type": "markdown",
   "metadata": {},
   "source": [
    "## Load Data"
   ]
  },
  {
   "cell_type": "code",
   "execution_count": null,
   "metadata": {
    "collapsed": false
   },
   "outputs": [],
   "source": [
    "fid = open(\"data/data.bin\",\"r\")\n",
    "m,n = read(fid,Int64,2)\n",
    "A   = read(fid,Float64,m*n)\n",
    "y   = read(fid,Float64,m)\n",
    "At  = read(fid,Float64,m*n)\n",
    "xt  = read(fid,Float64,n)\n",
    "τt  = read(fid,Float64,n)\n",
    "close(fid)\n",
    "A   = reshape(A,m,n)\n",
    "At  = reshape(At,m,n);"
   ]
  },
  {
   "cell_type": "markdown",
   "metadata": {},
   "source": [
    "## Span $\\tau$, and Plot Corresponding objective function value"
   ]
  },
  {
   "cell_type": "code",
   "execution_count": null,
   "metadata": {
    "collapsed": false
   },
   "outputs": [],
   "source": [
    "k  = 19\n",
    "τ  = linspace(0.05,0.95,k);\n",
    "f  = zeros(k,k);"
   ]
  },
  {
   "cell_type": "code",
   "execution_count": null,
   "metadata": {
    "collapsed": true
   },
   "outputs": [],
   "source": [
    "num = 0\n",
    "for j = 1:k, i = 1:k\n",
    "    Aq = copy(At)\n",
    "    x  = ones(n);\n",
    "    f[i,j] = tQRSolver!(x,[τ[j],τ[i]],Aq,A,y,itermax=20000,fixτ=true)\n",
    "    num += 1\n",
    "    println(\"iter \",num)\n",
    "end"
   ]
  },
  {
   "cell_type": "code",
   "execution_count": null,
   "metadata": {
    "collapsed": false
   },
   "outputs": [],
   "source": [
    "xmesh = linspace(0.025,0.975,20)\n",
    "ymesh = copy(xmesh)\n",
    "pcolormesh(xmesh,ymesh,f)\n",
    "colorbar()\n",
    "plot(τt[1],τt[2],\"or\")"
   ]
  },
  {
   "cell_type": "code",
   "execution_count": null,
   "metadata": {
    "collapsed": false,
    "scrolled": true
   },
   "outputs": [],
   "source": [
    "tQRSolver!(ones(n),[τt[1],τt[2]],copy(At),A,y,itermax=20000,fixτ=true)"
   ]
  },
  {
   "cell_type": "code",
   "execution_count": null,
   "metadata": {
    "collapsed": true
   },
   "outputs": [],
   "source": []
  }
 ],
 "metadata": {
  "kernelspec": {
   "display_name": "Julia 0.5.0",
   "language": "julia",
   "name": "julia-0.5"
  },
  "language_info": {
   "file_extension": ".jl",
   "mimetype": "application/julia",
   "name": "julia",
   "version": "0.5.0"
  }
 },
 "nbformat": 4,
 "nbformat_minor": 0
}
