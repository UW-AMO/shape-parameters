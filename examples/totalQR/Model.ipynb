{
 "cells": [
  {
   "cell_type": "markdown",
   "metadata": {},
   "source": [
    "# Generated Model\n",
    "Let's only consider univariate case. Assume we have $n$ true data points,\n",
    "$$\\{y_i^t,x_i^t\\}_{i=1}^n$$\n",
    "and our underline model is\n",
    "$$y_i^t = \\beta^t x_i^t.$$\n",
    "Then we could contaminate our data by errors $\\delta$ and $\\epsilon$,\n",
    "\\begin{align*}\n",
    "x &= x^t + \\delta,\\\\\n",
    "y &= y^t + \\epsilon.\n",
    "\\end{align*}\n",
    "Here we assume our error vectors satisfy\n",
    "* $\\text{cov}(\\epsilon_i,\\epsilon_j)=0$, $\\forall i\\neq j$, and $\\text{Var}(\\epsilon_i)=\\sigma_\\epsilon$.\n",
    "* $\\text{cov}(\\delta_i,\\delta_j)=0$, $\\forall i\\neq j$, and $\\text{Var}(\\delta_i)=\\sigma_\\delta$."
   ]
  },
  {
   "cell_type": "code",
   "execution_count": null,
   "metadata": {
    "collapsed": false
   },
   "outputs": [],
   "source": [
    "using PyPlot;\n",
    "include(\"./sampleQ.jl\");"
   ]
  },
  {
   "cell_type": "code",
   "execution_count": null,
   "metadata": {
    "collapsed": true
   },
   "outputs": [],
   "source": [
    "n  = 500;\n",
    "βᵗ = 2.0;\n",
    "xᵗ = 10*rand(n);\n",
    "yᵗ = βᵗ*xᵗ;\n",
    "ϵ  = 2.0*randn(n);\n",
    "# δ  = 2.0*randn(n);\n",
    "τ  = 0.9;\n",
    "δ  = zeros(n);\n",
    "for i = 1:n δ[i] = sampleQ(τ); end\n",
    "x  = xᵗ + δ;\n",
    "y  = yᵗ + ϵ;"
   ]
  },
  {
   "cell_type": "code",
   "execution_count": null,
   "metadata": {
    "collapsed": true
   },
   "outputs": [],
   "source": [
    "fid = open(\"data/data.bin\",\"r\")\n",
    "m,n = read(fid,Int64,2)\n",
    "x   = read(fid,Float64,m*n)\n",
    "y   = read(fid,Float64,m)\n",
    "xᵗ  = read(fid,Float64,m*n)\n",
    "βᵗ  = read(fid,Float64,n)\n",
    "τt  = read(fid,Float64,n)[1]\n",
    "close(fid)"
   ]
  },
  {
   "cell_type": "code",
   "execution_count": null,
   "metadata": {
    "collapsed": false
   },
   "outputs": [],
   "source": [
    "plot(x,y,\".c\")\n",
    "plot(xᵗ,y,\"-b\")"
   ]
  },
  {
   "cell_type": "markdown",
   "metadata": {},
   "source": [
    "# Ordinary Least Square\n",
    "$$\\beta_{\\text{OLS}} = (x^Tx)^{-1}(x^Ty)$$"
   ]
  },
  {
   "cell_type": "code",
   "execution_count": null,
   "metadata": {
    "collapsed": true
   },
   "outputs": [],
   "source": [
    "βOLS = dot(x,y)/dot(x,x);"
   ]
  },
  {
   "cell_type": "code",
   "execution_count": null,
   "metadata": {
    "collapsed": false
   },
   "outputs": [],
   "source": [
    "plot(x,y,\".c\")\n",
    "plot(xᵗ,y,\"-b\");\n",
    "plot([0,20],[0,βOLS*20],\"-g\")"
   ]
  },
  {
   "cell_type": "markdown",
   "metadata": {},
   "source": [
    "# Total Least Square\n",
    "$$\\beta_{\\text{TLS}} = \\frac{y^Ty-x^Tx+\\sqrt{(x^Tx-y^Ty)^2+4(x^Ty)^2}}{2x^Ty}$$"
   ]
  },
  {
   "cell_type": "code",
   "execution_count": null,
   "metadata": {
    "collapsed": true
   },
   "outputs": [],
   "source": [
    "xx = dot(x,x);\n",
    "yy = dot(y,y);\n",
    "xy = dot(x,y);\n",
    "βTLS = (yy-xx+sqrt((xx-yy)^2.0+4.0*xy^2))/(2.0*xy);"
   ]
  },
  {
   "cell_type": "code",
   "execution_count": null,
   "metadata": {
    "collapsed": false
   },
   "outputs": [],
   "source": [
    "plot(x,y,\".c\")\n",
    "plot(xᵗ,y,\"-b\");\n",
    "plot([0,20],[0,βOLS*20],\"-g\")\n",
    "plot([0,20],[0,βTLS*20],\"-r\")"
   ]
  },
  {
   "cell_type": "markdown",
   "metadata": {},
   "source": [
    "# Total Quantile Regression\n",
    "There is no closed form solution, since it involves solving a nonlinear equation.\n",
    "$$\\min_{\\beta,x_{\\text{TQR}}}\\rho_\\tau(x-x_{\\text{TQR}})+\\frac{1}{2}\\|\\beta x_{\\text{TQR}}-y\\|_2^2$$\n",
    "The optimality condition is,\n",
    "$$\n",
    "\\left\\{\\begin{array}{lll}\n",
    "\\beta^2x_{\\text{TQR}}-\\beta y\\in\\partial\\rho_\\tau(x-x_{\\text{TQR}})\\\\\n",
    "\\beta x_{\\text{TQR}}^Tx_{\\text{TQR}} = x_{\\text{TQR}}^Ty\n",
    "\\end{array}\\right.\n",
    "$$\n",
    "But notice that if we fix $\\beta$ this is just the Moreau envelope. Therefore we could easily project out $x_{\\text{TQR}}$ and do the iteration on $\\beta$ to obtain the optimal solution."
   ]
  },
  {
   "cell_type": "code",
   "execution_count": null,
   "metadata": {
    "collapsed": false
   },
   "outputs": [],
   "source": [
    "function projx!(xTQR, βTQR, x, y, τ)\n",
    "    n = length(x);\n",
    "    for i = 1:n\n",
    "        a = (βTQR*y[i]-τ)/βTQR^2.;\n",
    "        b = a + 1.0/βTQR^2.;\n",
    "        xTQR[i] = min(max(x[i],a),b);\n",
    "    end\n",
    "end\n",
    "function objTQR(xTQR, βTQR, x, y, τ)\n",
    "    n = length(x);\n",
    "    val = 0.0;\n",
    "    for i = 1:n\n",
    "        val += quantPen(x[i]-xTQR[i],τ)\n",
    "    end\n",
    "    val += 0.5*vecnorm(βTQR*xTQR-y)^2\n",
    "    return val\n",
    "end"
   ]
  },
  {
   "cell_type": "code",
   "execution_count": null,
   "metadata": {
    "collapsed": false
   },
   "outputs": [],
   "source": [
    "xTQR = zeros(m);\n",
    "βTQR = 1.0;\n",
    "τTQR = 0.9;\n",
    "for k = 1:2000\n",
    "    projx!(xTQR, βTQR, x, y, τTQR);\n",
    "    βTQR = dot(y,xTQR)/dot(xTQR,xTQR);\n",
    "end\n",
    "@show(βTQR);\n",
    "@show(objTQR(xTQR, βTQR, x, y, τTQR));"
   ]
  },
  {
   "cell_type": "code",
   "execution_count": null,
   "metadata": {
    "collapsed": false
   },
   "outputs": [],
   "source": [
    "plot(x,y,\".c\")\n",
    "plot(xᵗ,y,\"-b\");\n",
    "plot([0,20],[0,βOLS*20],\"-g\")\n",
    "plot([0,20],[0,βTLS*20],\"-r\")\n",
    "plot([0,1],[0,βTQR*1],\"-m\")"
   ]
  },
  {
   "cell_type": "markdown",
   "metadata": {
    "collapsed": true
   },
   "source": [
    "## Adding $\\tau$ to be unknow"
   ]
  },
  {
   "cell_type": "code",
   "execution_count": null,
   "metadata": {
    "collapsed": false
   },
   "outputs": [],
   "source": [
    "function projτ(xTQR, x)\n",
    "    a = (sum(x) - sum(xTQR))/length(x);\n",
    "    a == 0.0 ? (return 0.5) : (return 2.0/(sqrt(a^2.0+4.0)-a+2.0))\n",
    "end\n",
    "function objTQRT(xTQR, βTQR, x, y, τTQR)\n",
    "    n = length(x);\n",
    "    val = 0.0;\n",
    "    for i = 1:n\n",
    "        val += quantPen(x[i]-xTQR[i],τTQR)\n",
    "    end\n",
    "    val += 0.5*vecnorm(βTQR*xTQR-y)^2\n",
    "    val -= n*(log(τTQR*(1-τTQR)))\n",
    "    return val\n",
    "end"
   ]
  },
  {
   "cell_type": "code",
   "execution_count": null,
   "metadata": {
    "collapsed": false
   },
   "outputs": [],
   "source": [
    "xTQR = copy(x);\n",
    "βTQR = 1.0;\n",
    "τTQR = 0.5;\n",
    "for k = 1:500\n",
    "    τTQR = projτ(xTQR,x);\n",
    "#     @printf(\"after τ, obj %1.5e, τ = %1.5e\\n\",objTQRT(xTQR,βTQR,x,y,τTQR),τTQR)\n",
    "    projx!(xTQR, βTQR, x, y, τTQR);\n",
    "#     @printf(\"after x, obj %1.5e\\n\",objTQRT(xTQR,βTQR,x,y,τTQR))\n",
    "    βTQR = dot(y,xTQR)/dot(xTQR,xTQR);\n",
    "#     @printf(\"after β, obj %1.5e, β = %1.5e\\n\",objTQRT(xTQR,βTQR,x,y,τTQR),βTQR)\n",
    "    k%20==0 &&\n",
    "    @printf(\"iter %3d, obj %1.5e\\n\",k,objTQRT(xTQR,βTQR,x,y,τTQR))\n",
    "end\n",
    "@show(τTQR);\n",
    "@show(βTQR);"
   ]
  },
  {
   "cell_type": "code",
   "execution_count": null,
   "metadata": {
    "collapsed": false
   },
   "outputs": [],
   "source": [
    "βᵗ, βOLS, βTLS, βTQR"
   ]
  },
  {
   "cell_type": "code",
   "execution_count": null,
   "metadata": {
    "collapsed": false
   },
   "outputs": [],
   "source": [
    "for β ∈ [βᵗ[1], βOLS, βTLS, βTQR]\n",
    "    @printf(\"relative error: %1.5e\\n\",abs(β-βᵗ[1])/abs(βᵗ[1]))\n",
    "end"
   ]
  },
  {
   "cell_type": "code",
   "execution_count": null,
   "metadata": {
    "collapsed": true
   },
   "outputs": [],
   "source": []
  }
 ],
 "metadata": {
  "kernelspec": {
   "display_name": "Julia 0.5.0",
   "language": "julia",
   "name": "julia-0.5"
  },
  "language_info": {
   "file_extension": ".jl",
   "mimetype": "application/julia",
   "name": "julia",
   "version": "0.5.0"
  }
 },
 "nbformat": 4,
 "nbformat_minor": 0
}
