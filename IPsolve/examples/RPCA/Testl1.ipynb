{
 "cells": [
  {
   "cell_type": "code",
   "execution_count": 1,
   "metadata": {
    "collapsed": true,
    "deletable": true,
    "editable": true
   },
   "outputs": [],
   "source": [
    "using PyPlot"
   ]
  },
  {
   "cell_type": "markdown",
   "metadata": {
    "deletable": true,
    "editable": true
   },
   "source": [
    "# Experiment 1: Test $\\ell_1$ Penalty"
   ]
  },
  {
   "cell_type": "markdown",
   "metadata": {
    "deletable": true,
    "editable": true
   },
   "source": [
    "## Load Data"
   ]
  },
  {
   "cell_type": "code",
   "execution_count": 2,
   "metadata": {
    "collapsed": false,
    "deletable": true,
    "editable": true
   },
   "outputs": [
    {
     "data": {
      "text/plain": [
       "(128,160)"
      ]
     },
     "execution_count": 2,
     "metadata": {},
     "output_type": "execute_result"
    }
   ],
   "source": [
    "m,n = 20480, 202;  # size of matrix\n",
    "mp, np = 128,160;   # size of one image"
   ]
  },
  {
   "cell_type": "code",
   "execution_count": 3,
   "metadata": {
    "collapsed": false,
    "deletable": true,
    "editable": true
   },
   "outputs": [],
   "source": [
    "fid = open(\"results/R.bin\",\"r\")\n",
    "R   = read(fid,Float64,m*n)\n",
    "close(fid)\n",
    "sort!(R);"
   ]
  },
  {
   "cell_type": "markdown",
   "metadata": {
    "deletable": true,
    "editable": true
   },
   "source": [
    "## Maximum Likelihood\n",
    "* Penalty: $\\rho(R;\\alpha) = \\alpha \\|R\\|_1$\n",
    "* Density: $p(r;\\alpha) = \\exp[-\\alpha|r|]/n_c(\\alpha)$\n",
    "* Normalization constant: $n_c(\\alpha) = 2/\\alpha$\n",
    "* Maximum likelihood:\n",
    "$$\\min_\\alpha \\frac{\\alpha}{mn}\\|R\\|_1 + \\log\\left(\\frac{2}{\\alpha}\\right)\\quad\\Rightarrow\\quad\\alpha = \\frac{mn}{\\|R\\|_1}$$"
   ]
  },
  {
   "cell_type": "code",
   "execution_count": 4,
   "metadata": {
    "collapsed": false,
    "deletable": true,
    "editable": true
   },
   "outputs": [
    {
     "data": {
      "text/plain": [
       "33.72641401899046"
      ]
     },
     "execution_count": 4,
     "metadata": {},
     "output_type": "execute_result"
    }
   ],
   "source": [
    "α = m*n/sum(abs(R))"
   ]
  },
  {
   "cell_type": "markdown",
   "metadata": {
    "deletable": true,
    "editable": true
   },
   "source": [
    "## Plot Result\n",
    "* Empirical Distribution\n",
    "* $\\ell_1$ Distribution"
   ]
  },
  {
   "cell_type": "code",
   "execution_count": 5,
   "metadata": {
    "collapsed": false,
    "deletable": true,
    "editable": true
   },
   "outputs": [
    {
     "data": {
      "text/plain": [
       "l1CDF (generic function with 1 method)"
      ]
     },
     "execution_count": 5,
     "metadata": {},
     "output_type": "execute_result"
    }
   ],
   "source": [
    "function eCDF(x::Array{Float64,1},R::Array{Float64,1})\n",
    "    sort!(x)\n",
    "    n = length(x)\n",
    "    m = length(R)\n",
    "    v = zeros(n)\n",
    "    j = 1\n",
    "    for i = 1:n\n",
    "        while j ≤ m && R[j] < x[i]\n",
    "            j += 1\n",
    "        end\n",
    "        v[i] = (j-1)/m\n",
    "    end\n",
    "    return v\n",
    "end\n",
    "\n",
    "function l1CDF(x::Array{Float64,1},α::Float64)\n",
    "    n = length(x)\n",
    "    v = zeros(n)\n",
    "    for i = 1:n\n",
    "        v[i] = ifelse(x[i] ≤ 0.0,0.5*exp(x[i]*α),1.0 - 0.5*exp(-x[i]*α))\n",
    "    end\n",
    "    return v\n",
    "end"
   ]
  },
  {
   "cell_type": "code",
   "execution_count": 6,
   "metadata": {
    "collapsed": true,
    "deletable": true,
    "editable": true
   },
   "outputs": [],
   "source": [
    "x = collect(linspace(-0.5,0.5,100));\n",
    "v1 = eCDF(x,R);\n",
    "v2 = l1CDF(x,α);"
   ]
  },
  {
   "cell_type": "code",
   "execution_count": 7,
   "metadata": {
    "collapsed": false,
    "deletable": true,
    "editable": true
   },
   "outputs": [
    {
     "data": {
      "image/png": "[encoded data removed]",
      "text/plain": [
       "PyPlot.Figure(PyObject <matplotlib.figure.Figure object at 0x312cdea10>)"
      ]
     },
     "metadata": {},
     "output_type": "display_data"
    },
    {
     "data": {
      "text/plain": [
       "1-element Array{Any,1}:\n",
       " PyObject <matplotlib.lines.Line2D object at 0x31ad5ca10>"
      ]
     },
     "execution_count": 7,
     "metadata": {},
     "output_type": "execute_result"
    }
   ],
   "source": [
    "plot(x,v1,\"b\")\n",
    "plot(x,v2,\"g\")"
   ]
  },
  {
   "cell_type": "markdown",
   "metadata": {
    "deletable": true,
    "editable": true
   },
   "source": [
    "## What About $\\ell_2$?\n",
    "* Penalty: $\\rho(R;\\beta) = \\beta^2\\|R\\|_F^2/2$\n",
    "* Density: $p(r;\\beta) = \\exp[-\\rho(r;\\beta)]/n_c(\\beta)$\n",
    "* Normalization constant: $n_c(\\beta) = \\sqrt{2\\pi}/\\beta$\n",
    "* Maximum likelihood:\n",
    "$$\\min_\\beta \\frac{\\beta^2}{2mn}\\|R\\|_F^2 + \\log\\left(\\frac{\\sqrt{2\\pi}}{\\beta}\\right)\\quad\\Rightarrow\\quad\\beta = \\frac{\\sqrt{mn}}{\\|R\\|_F}$$"
   ]
  },
  {
   "cell_type": "code",
   "execution_count": 8,
   "metadata": {
    "collapsed": false,
    "deletable": true,
    "editable": true
   },
   "outputs": [
    {
     "data": {
      "text/plain": [
       "19.184107560360314"
      ]
     },
     "execution_count": 8,
     "metadata": {},
     "output_type": "execute_result"
    }
   ],
   "source": [
    "β = sqrt(m*n)/vecnorm(R)"
   ]
  },
  {
   "cell_type": "code",
   "execution_count": 9,
   "metadata": {
    "collapsed": false,
    "deletable": true,
    "editable": true
   },
   "outputs": [
    {
     "data": {
      "text/plain": [
       "l2CDF (generic function with 1 method)"
      ]
     },
     "execution_count": 9,
     "metadata": {},
     "output_type": "execute_result"
    }
   ],
   "source": [
    "function l2CDF(x::Array{Float64,1},β::Float64)\n",
    "    sort!(x);\n",
    "    n = length(x);\n",
    "    v = zeros(n);\n",
    "    for i = 1:n\n",
    "        v[i] = 0.5*(1.0+erf(x[i]*β/sqrt(2)));\n",
    "    end\n",
    "    return v\n",
    "end"
   ]
  },
  {
   "cell_type": "code",
   "execution_count": 10,
   "metadata": {
    "collapsed": false,
    "deletable": true,
    "editable": true
   },
   "outputs": [],
   "source": [
    "v3 = l2CDF(x,β);"
   ]
  },
  {
   "cell_type": "code",
   "execution_count": 11,
   "metadata": {
    "collapsed": false,
    "deletable": true,
    "editable": true
   },
   "outputs": [
    {
     "data": {
      "image/png": "[encoded data removed]",
      "text/plain": [
       "PyPlot.Figure(PyObject <matplotlib.figure.Figure object at 0x31b1fd510>)"
      ]
     },
     "metadata": {},
     "output_type": "display_data"
    },
    {
     "data": {
      "text/plain": [
       "1-element Array{Any,1}:\n",
       " PyObject <matplotlib.lines.Line2D object at 0x31ad8f350>"
      ]
     },
     "execution_count": 11,
     "metadata": {},
     "output_type": "execute_result"
    }
   ],
   "source": [
    "plot(x,v1,\"b\")\n",
    "plot(x,v2,\"g\")\n",
    "plot(x,v3,\"r\")"
   ]
  },
  {
   "cell_type": "code",
   "execution_count": null,
   "metadata": {
    "collapsed": true,
    "deletable": true,
    "editable": true
   },
   "outputs": [],
   "source": []
  }
 ],
 "metadata": {
  "anaconda-cloud": {},
  "kernelspec": {
   "display_name": "Julia 0.5.0",
   "language": "julia",
   "name": "julia-0.5"
  },
  "language_info": {
   "file_extension": ".jl",
   "mimetype": "application/julia",
   "name": "julia",
   "version": "0.5.0"
  }
 },
 "nbformat": 4,
 "nbformat_minor": 0
}
